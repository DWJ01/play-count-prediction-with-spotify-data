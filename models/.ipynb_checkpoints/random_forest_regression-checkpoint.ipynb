{
 "cells": [
  {
   "cell_type": "code",
   "execution_count": null,
   "metadata": {},
   "outputs": [],
   "source": [
    "# Jieyu Chen is responsible for this code\n",
    "# import packages\n",
    "import matplotlib.pyplot as plt\n",
    "import numpy as np\n",
    "import pandas as pd\n",
    "import seaborn as sb\n",
    "import sklearn\n",
    "%matplotlib inline"
   ]
  },
  {
   "cell_type": "code",
   "execution_count": null,
   "metadata": {},
   "outputs": [],
   "source": [
    "from sklearn.ensemble import RandomForestRegressor\n",
    "from sklearn.metrics import mean_squared_error\n",
    "from sklearn.model_selection import train_test_split\n",
    "from sklearn.pipeline import Pipeline\n",
    "from sklearn.preprocessing import MinMaxScaler, PolynomialFeatures\n",
    "from sklearn.metrics import mean_absolute_error\n",
    "from sklearn.model_selection import RandomizedSearchCV"
   ]
  },
  {
   "cell_type": "code",
   "execution_count": null,
   "metadata": {},
   "outputs": [],
   "source": [
    "# read csv files, uncomment to switch dataset\n",
    "# df = pd.read_csv('../dataset/train_with_countries.csv', index_col=0)\n",
    "df = pd.read_csv('../dataset/train_no_countries.csv', index_col=0)\n",
    "y_train = df['play_count'].astype(float)\n",
    "df = df.drop(['play_count'], axis=1)\n",
    "X_train = df.astype(float)\n",
    "\n",
    "# df_test = pd.read_csv('../dataset/test_with_countries.csv', index_col=0)\n",
    "df_test = pd.read_csv('../dataset/test_no_countries.csv', index_col=0)\n",
    "y_val = df_test['play_count'].astype(float)\n",
    "df_test = df_test.drop(['play_count'], axis=1)\n",
    "X_val = df_test.astype(float)\n",
    "df_test.head()"
   ]
  },
  {
   "cell_type": "code",
   "execution_count": null,
   "metadata": {},
   "outputs": [],
   "source": [
    "# MinMax Scaling\n",
    "transformer = MinMaxScaler().fit(X_train) \n",
    "X_train = transformer.transform(X_train)\n",
    "X_train = pd.DataFrame(X_train)\n",
    "\n",
    "transformer = MinMaxScaler().fit(X_val) \n",
    "X_val = transformer.transform(X_val)\n",
    "X_val = pd.DataFrame(X_val)"
   ]
  },
  {
   "cell_type": "code",
   "execution_count": null,
   "metadata": {},
   "outputs": [],
   "source": [
    "# Random Forest Regression\n",
    "rf = RandomForestRegressor()\n",
    "rf.fit(X_train, y_train)\n",
    "\n",
    "# predict\n",
    "y_train_pred = rf.predict(X_train)\n",
    "y_val_pred = rf.predict(X_val)\n",
    "\n",
    "# random search parameters\n",
    "parameters = {'n_estimators': [60, 80, 90],\n",
    "              'max_features': ['log2', 'sqrt','auto'], \n",
    "              'max_depth': [3, 5, 10, 15], \n",
    "              'min_samples_split': [2, 3, 5, 8],\n",
    "              'min_samples_leaf': [3, 5, 8, 9]\n",
    "             }\n",
    "\n",
    "# perform random search\n",
    "random_search = RandomizedSearchCV(rf, parameters, cv=5)\n",
    "random_search.fit(X_train, y_train)\n",
    "\n",
    "# random search predict\n",
    "y_train_pred = random_search.predict(X_train)\n",
    "y_val_pred = random_search.predict(X_val)\n",
    "\n",
    "# print best parameters\n",
    "print(random_search.best_estimator_)\n",
    "\n",
    "# print errors\n",
    "print(\"train MAE: \", mean_absolute_error(y_train, y_train_pred))\n",
    "print(\"test MAE: \", mean_absolute_error(y_val, y_val_pred))"
   ]
  },
  {
   "cell_type": "code",
   "execution_count": null,
   "metadata": {},
   "outputs": [],
   "source": []
  }
 ],
 "metadata": {
  "kernelspec": {
   "display_name": "Python 3",
   "language": "python",
   "name": "python3"
  },
  "language_info": {
   "codemirror_mode": {
    "name": "ipython",
    "version": 2
   },
   "file_extension": ".py",
   "mimetype": "text/x-python",
   "name": "python",
   "nbconvert_exporter": "python",
   "pygments_lexer": "ipython2",
   "version": "2.7.16"
  }
 },
 "nbformat": 4,
 "nbformat_minor": 2
}
