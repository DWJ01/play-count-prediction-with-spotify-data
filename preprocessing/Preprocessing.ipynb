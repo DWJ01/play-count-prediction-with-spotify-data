{
 "cells": [
  {
   "cell_type": "code",
   "execution_count": 87,
   "metadata": {},
   "outputs": [],
   "source": [
    "# Jieyu Chen is responsible for this code\n",
    "import numpy as np\n",
    "import pandas as pd\n",
    "import sklearn\n",
    "from sklearn.model_selection import train_test_split\n",
    "from sklearn.utils import shuffle\n",
    "import math\n",
    "from datetime import datetime\n",
    "pd.set_option('display.max_columns', None)"
   ]
  },
  {
   "cell_type": "code",
   "execution_count": 88,
   "metadata": {},
   "outputs": [],
   "source": [
    "df = pd.read_csv('all_data_raw.csv', index_col=0)"
   ]
  },
  {
   "cell_type": "code",
   "execution_count": 89,
   "metadata": {},
   "outputs": [
    {
     "data": {
      "text/html": [
       "<div>\n",
       "<style scoped>\n",
       "    .dataframe tbody tr th:only-of-type {\n",
       "        vertical-align: middle;\n",
       "    }\n",
       "\n",
       "    .dataframe tbody tr th {\n",
       "        vertical-align: top;\n",
       "    }\n",
       "\n",
       "    .dataframe thead th {\n",
       "        text-align: right;\n",
       "    }\n",
       "</style>\n",
       "<table border=\"1\" class=\"dataframe\">\n",
       "  <thead>\n",
       "    <tr style=\"text-align: right;\">\n",
       "      <th></th>\n",
       "      <th>play_count</th>\n",
       "      <th>energy</th>\n",
       "      <th>liveness</th>\n",
       "      <th>tempo</th>\n",
       "      <th>speechiness</th>\n",
       "      <th>acousticness</th>\n",
       "      <th>instrumentalness</th>\n",
       "      <th>time_signature</th>\n",
       "      <th>danceability</th>\n",
       "      <th>key</th>\n",
       "      <th>duration_ms</th>\n",
       "      <th>loudness</th>\n",
       "      <th>valence</th>\n",
       "      <th>mode</th>\n",
       "      <th>artist_name</th>\n",
       "      <th>song_name</th>\n",
       "      <th>artist_followers</th>\n",
       "      <th>artist_popularity</th>\n",
       "      <th>artist_genres</th>\n",
       "      <th>disc_number</th>\n",
       "      <th>track_id</th>\n",
       "      <th>explicit</th>\n",
       "      <th>country</th>\n",
       "      <th>album_release_date</th>\n",
       "      <th>album_total_tracks</th>\n",
       "      <th>album_available_markets</th>\n",
       "      <th>listener_count</th>\n",
       "    </tr>\n",
       "  </thead>\n",
       "  <tbody>\n",
       "    <tr>\n",
       "      <th>0</th>\n",
       "      <td>57733.0</td>\n",
       "      <td>0.833</td>\n",
       "      <td>0.0659</td>\n",
       "      <td>125.070</td>\n",
       "      <td>0.0402</td>\n",
       "      <td>0.01560</td>\n",
       "      <td>0.000000</td>\n",
       "      <td>4.0</td>\n",
       "      <td>0.556</td>\n",
       "      <td>5.0</td>\n",
       "      <td>224746</td>\n",
       "      <td>-5.290</td>\n",
       "      <td>0.374</td>\n",
       "      <td>1.0</td>\n",
       "      <td>ONE OK ROCK</td>\n",
       "      <td>Wasted Nights</td>\n",
       "      <td>2381898.0</td>\n",
       "      <td>72.0</td>\n",
       "      <td>['j-pop', 'j-rock', 'visual kei']</td>\n",
       "      <td>1</td>\n",
       "      <td>51Jyu0jAfvawonJVbkCSuN</td>\n",
       "      <td>False</td>\n",
       "      <td>US</td>\n",
       "      <td>2019-06-14</td>\n",
       "      <td>35</td>\n",
       "      <td>1</td>\n",
       "      <td>8504.0</td>\n",
       "    </tr>\n",
       "    <tr>\n",
       "      <th>1</th>\n",
       "      <td>NaN</td>\n",
       "      <td>0.861</td>\n",
       "      <td>0.2040</td>\n",
       "      <td>155.844</td>\n",
       "      <td>0.0596</td>\n",
       "      <td>0.00123</td>\n",
       "      <td>0.789000</td>\n",
       "      <td>4.0</td>\n",
       "      <td>0.730</td>\n",
       "      <td>5.0</td>\n",
       "      <td>184806</td>\n",
       "      <td>-7.228</td>\n",
       "      <td>0.876</td>\n",
       "      <td>0.0</td>\n",
       "      <td>Holladay</td>\n",
       "      <td>Ghetto (feat. Young Drummer Boy) [Instrumental]</td>\n",
       "      <td>1008.0</td>\n",
       "      <td>21.0</td>\n",
       "      <td>['bedroom soul']</td>\n",
       "      <td>1</td>\n",
       "      <td>0JD6RB1CtMPzO5jn0rWdhL</td>\n",
       "      <td>False</td>\n",
       "      <td>US</td>\n",
       "      <td>2016-04-01</td>\n",
       "      <td>5</td>\n",
       "      <td>79</td>\n",
       "      <td>NaN</td>\n",
       "    </tr>\n",
       "    <tr>\n",
       "      <th>2</th>\n",
       "      <td>208750.0</td>\n",
       "      <td>0.637</td>\n",
       "      <td>0.1020</td>\n",
       "      <td>128.063</td>\n",
       "      <td>0.0318</td>\n",
       "      <td>0.14500</td>\n",
       "      <td>0.000000</td>\n",
       "      <td>4.0</td>\n",
       "      <td>0.448</td>\n",
       "      <td>11.0</td>\n",
       "      <td>208813</td>\n",
       "      <td>-6.369</td>\n",
       "      <td>0.343</td>\n",
       "      <td>1.0</td>\n",
       "      <td>Martin Garrix</td>\n",
       "      <td>No Sleep (feat. Bonn)</td>\n",
       "      <td>11759320.0</td>\n",
       "      <td>85.0</td>\n",
       "      <td>['big room', 'edm', 'pop', 'progressive house'...</td>\n",
       "      <td>1</td>\n",
       "      <td>1xc4v8WOttFgzZpkaiVCRz</td>\n",
       "      <td>False</td>\n",
       "      <td>NL</td>\n",
       "      <td>2019-05-10</td>\n",
       "      <td>17</td>\n",
       "      <td>1</td>\n",
       "      <td>42819.0</td>\n",
       "    </tr>\n",
       "    <tr>\n",
       "      <th>3</th>\n",
       "      <td>36471.0</td>\n",
       "      <td>0.426</td>\n",
       "      <td>0.1060</td>\n",
       "      <td>169.986</td>\n",
       "      <td>0.0416</td>\n",
       "      <td>0.91900</td>\n",
       "      <td>0.067300</td>\n",
       "      <td>4.0</td>\n",
       "      <td>0.341</td>\n",
       "      <td>0.0</td>\n",
       "      <td>420012</td>\n",
       "      <td>-11.194</td>\n",
       "      <td>0.187</td>\n",
       "      <td>1.0</td>\n",
       "      <td>Miracle Musical</td>\n",
       "      <td>Dream Sweet in Sea Major</td>\n",
       "      <td>24185.0</td>\n",
       "      <td>50.0</td>\n",
       "      <td>[]</td>\n",
       "      <td>1</td>\n",
       "      <td>3RznzRnsl8mzP63l4AF2M7</td>\n",
       "      <td>False</td>\n",
       "      <td>TC</td>\n",
       "      <td>2012</td>\n",
       "      <td>11</td>\n",
       "      <td>79</td>\n",
       "      <td>6606.0</td>\n",
       "    </tr>\n",
       "    <tr>\n",
       "      <th>4</th>\n",
       "      <td>1076.0</td>\n",
       "      <td>0.410</td>\n",
       "      <td>0.1250</td>\n",
       "      <td>184.015</td>\n",
       "      <td>0.0373</td>\n",
       "      <td>0.06880</td>\n",
       "      <td>0.000097</td>\n",
       "      <td>4.0</td>\n",
       "      <td>0.641</td>\n",
       "      <td>0.0</td>\n",
       "      <td>171093</td>\n",
       "      <td>-4.851</td>\n",
       "      <td>0.750</td>\n",
       "      <td>1.0</td>\n",
       "      <td>Plastic Plastic</td>\n",
       "      <td>Gardening</td>\n",
       "      <td>18150.0</td>\n",
       "      <td>60.0</td>\n",
       "      <td>['experimental rock']</td>\n",
       "      <td>1</td>\n",
       "      <td>4k9Ls1K7hKfh2yJSeKJIVX</td>\n",
       "      <td>False</td>\n",
       "      <td>JP</td>\n",
       "      <td>2019-03-20</td>\n",
       "      <td>11</td>\n",
       "      <td>1</td>\n",
       "      <td>274.0</td>\n",
       "    </tr>\n",
       "  </tbody>\n",
       "</table>\n",
       "</div>"
      ],
      "text/plain": [
       "   play_count  energy  liveness    tempo  speechiness  acousticness  \\\n",
       "0     57733.0   0.833    0.0659  125.070       0.0402       0.01560   \n",
       "1         NaN   0.861    0.2040  155.844       0.0596       0.00123   \n",
       "2    208750.0   0.637    0.1020  128.063       0.0318       0.14500   \n",
       "3     36471.0   0.426    0.1060  169.986       0.0416       0.91900   \n",
       "4      1076.0   0.410    0.1250  184.015       0.0373       0.06880   \n",
       "\n",
       "   instrumentalness  time_signature  danceability   key  duration_ms  \\\n",
       "0          0.000000             4.0         0.556   5.0       224746   \n",
       "1          0.789000             4.0         0.730   5.0       184806   \n",
       "2          0.000000             4.0         0.448  11.0       208813   \n",
       "3          0.067300             4.0         0.341   0.0       420012   \n",
       "4          0.000097             4.0         0.641   0.0       171093   \n",
       "\n",
       "   loudness  valence  mode      artist_name  \\\n",
       "0    -5.290    0.374   1.0      ONE OK ROCK   \n",
       "1    -7.228    0.876   0.0         Holladay   \n",
       "2    -6.369    0.343   1.0    Martin Garrix   \n",
       "3   -11.194    0.187   1.0  Miracle Musical   \n",
       "4    -4.851    0.750   1.0  Plastic Plastic   \n",
       "\n",
       "                                         song_name  artist_followers  \\\n",
       "0                                    Wasted Nights         2381898.0   \n",
       "1  Ghetto (feat. Young Drummer Boy) [Instrumental]            1008.0   \n",
       "2                            No Sleep (feat. Bonn)        11759320.0   \n",
       "3                         Dream Sweet in Sea Major           24185.0   \n",
       "4                                        Gardening           18150.0   \n",
       "\n",
       "   artist_popularity                                      artist_genres  \\\n",
       "0               72.0                  ['j-pop', 'j-rock', 'visual kei']   \n",
       "1               21.0                                   ['bedroom soul']   \n",
       "2               85.0  ['big room', 'edm', 'pop', 'progressive house'...   \n",
       "3               50.0                                                 []   \n",
       "4               60.0                              ['experimental rock']   \n",
       "\n",
       "   disc_number                track_id  explicit country album_release_date  \\\n",
       "0            1  51Jyu0jAfvawonJVbkCSuN     False      US         2019-06-14   \n",
       "1            1  0JD6RB1CtMPzO5jn0rWdhL     False      US         2016-04-01   \n",
       "2            1  1xc4v8WOttFgzZpkaiVCRz     False      NL         2019-05-10   \n",
       "3            1  3RznzRnsl8mzP63l4AF2M7     False      TC               2012   \n",
       "4            1  4k9Ls1K7hKfh2yJSeKJIVX     False      JP         2019-03-20   \n",
       "\n",
       "   album_total_tracks  album_available_markets  listener_count  \n",
       "0                  35                        1          8504.0  \n",
       "1                   5                       79             NaN  \n",
       "2                  17                        1         42819.0  \n",
       "3                  11                       79          6606.0  \n",
       "4                  11                        1           274.0  "
      ]
     },
     "execution_count": 89,
     "metadata": {},
     "output_type": "execute_result"
    }
   ],
   "source": [
    "# show the data\n",
    "df.head()"
   ]
  },
  {
   "cell_type": "markdown",
   "metadata": {},
   "source": [
    "# Categorical Data "
   ]
  },
  {
   "cell_type": "code",
   "execution_count": 90,
   "metadata": {},
   "outputs": [],
   "source": [
    "# Turn the True/False data into 1/0\n",
    "df.explicit = df.explicit.eq(True).mul(1)"
   ]
  },
  {
   "cell_type": "code",
   "execution_count": 91,
   "metadata": {},
   "outputs": [],
   "source": [
    "# drop two data points for later test case. They are 手写的从前 by Jay Chou and All I Want for Christmas is You\n",
    "df.loc[df['track_id'] == '7Kmdy3SkmtDWZyAPccrFVd']\n",
    "df.loc[df['track_id'] == '5YAuUz0Nagt9QxYheiQ9zk']\n",
    "df = df[df.track_id != '7Kmdy3SkmtDWZyAPccrFVd']\n",
    "df = df[df.track_id != '5YAuUz0Nagt9QxYheiQ9zk']"
   ]
  },
  {
   "cell_type": "markdown",
   "metadata": {},
   "source": [
    "# Missing Values\n",
    "### 1. Drop the data point if certain features are missing"
   ]
  },
  {
   "cell_type": "code",
   "execution_count": 92,
   "metadata": {},
   "outputs": [],
   "source": [
    "df.dropna(subset=['album_release_date'], inplace=True)\n",
    "df = df[df.album_release_date != '0000']\n",
    "df.drop(['artist_genres'], axis=1, inplace = True)"
   ]
  },
  {
   "cell_type": "markdown",
   "metadata": {},
   "source": [
    "### 2. Impute the average value computed from the whole dataset for the variable artist_followers"
   ]
  },
  {
   "cell_type": "code",
   "execution_count": 93,
   "metadata": {},
   "outputs": [],
   "source": [
    "df['artist_followers'] = df['artist_followers'].fillna(df['artist_followers'].mean())"
   ]
  },
  {
   "cell_type": "markdown",
   "metadata": {},
   "source": [
    "# Meta-Data\n",
    "### Drop some meta-data such as artists' names, track IDs and names of songs."
   ]
  },
  {
   "cell_type": "code",
   "execution_count": 94,
   "metadata": {},
   "outputs": [],
   "source": [
    "df.drop(['artist_name'], axis=1, inplace=True)\n",
    "df.drop(['track_id'], axis=1, inplace=True)\n",
    "df.drop(['song_name'], axis=1, inplace=True)"
   ]
  },
  {
   "cell_type": "markdown",
   "metadata": {},
   "source": [
    "# Time Data"
   ]
  },
  {
   "cell_type": "markdown",
   "metadata": {},
   "source": [
    "### If the month and date is missing, then set it to Janurary 1st.\n",
    "### If the date is missing, then set it to the first day of that month."
   ]
  },
  {
   "cell_type": "code",
   "execution_count": 95,
   "metadata": {},
   "outputs": [],
   "source": [
    "df['album_release_date'] = df['album_release_date'].apply(lambda x: x + '-01-01' if x.find('-') == -1 else x)\n",
    "df['album_release_date'] = df['album_release_date'].apply(lambda x: x + '-01' if x[-6] != '-' else x)"
   ]
  },
  {
   "cell_type": "markdown",
   "metadata": {},
   "source": [
    "### Convert the data to datetime type.\n",
    "### Change the release date to an integer that represents the difference between today and the release date."
   ]
  },
  {
   "cell_type": "code",
   "execution_count": 96,
   "metadata": {},
   "outputs": [],
   "source": [
    "df['album_release_date'] = df['album_release_date'].apply(lambda x: datetime.strptime(x, '%Y-%m-%d').date())\n",
    "df['album_release_date'] = df['album_release_date'].apply(lambda x: datetime.date(datetime.today()) - x)\n",
    "df['album_release_date'] = pd.to_numeric(df['album_release_date'].dt.days, downcast='integer')"
   ]
  },
  {
   "cell_type": "markdown",
   "metadata": {},
   "source": [
    "### Shuffle the data"
   ]
  },
  {
   "cell_type": "code",
   "execution_count": 97,
   "metadata": {},
   "outputs": [],
   "source": [
    "df = shuffle(df)"
   ]
  },
  {
   "cell_type": "markdown",
   "metadata": {},
   "source": [
    "# Get the dataset without the \"country\" variable. \n",
    "### Please uncomment the following code to run it."
   ]
  },
  {
   "cell_type": "code",
   "execution_count": 98,
   "metadata": {},
   "outputs": [],
   "source": [
    "# df.drop('country', inplace=True, axis=1)"
   ]
  },
  {
   "cell_type": "markdown",
   "metadata": {},
   "source": [
    "# Get the dataset with the \"country\" variable"
   ]
  },
  {
   "cell_type": "code",
   "execution_count": 99,
   "metadata": {},
   "outputs": [],
   "source": [
    "# drop the data point if the variable \"country\" is missing\n",
    "df.dropna(subset=['country'], inplace=True)\n",
    "# drop the data point if the country is not alphabet or numbers\n",
    "df = df[df['country'].str.isalnum()]\n",
    "df = df.loc[df.country.apply(lambda x: str(x).isalpha())]\n",
    "# turn the country into uppercase. For example, \"us\" to \"US\", \"cn\" to \"CN\".\n",
    "df['country'] = df[['country']].applymap(lambda x: x.upper())\n",
    "# add a prefix \"country_\" so that after one-hot encoding we can easily notice that this column is a country.\n",
    "df['country'] = df[['country']].applymap(lambda x: 'country_' + str(x))\n",
    "# do one-hot encoding to deal with country, because it is categorical data.\n",
    "country = pd.get_dummies(df.country)\n",
    "df[country.columns] = country\n",
    "# drop the original \"country\" column after finishing one-hot encoding\n",
    "df.drop('country', inplace=True, axis=1)"
   ]
  },
  {
   "cell_type": "markdown",
   "metadata": {},
   "source": [
    "### Do train, development and test set split in a ratio of 7:2:1.\n",
    "### Sort each dataset in an descending order according to the album release date, so that songs in each data set is ordered by the release date from the oldest to the latest.\n",
    "### Reset the index in each dataset. drop=True because we do want to insert orginal index into dataframe columns. This resets the index to the default integer index."
   ]
  },
  {
   "cell_type": "code",
   "execution_count": 100,
   "metadata": {},
   "outputs": [],
   "source": [
    "train = df.iloc[0:len(df)*7//10]\n",
    "dev = df.iloc[len(df)*7//10:len(df)*9//10]\n",
    "test = df.iloc[len(df)*9//10:]\n",
    "\n",
    "train = pd.DataFrame(train, columns=cols)\n",
    "train.sort_values(by = ['album_release_date'], ascending=False, inplace = True)\n",
    "train.reset_index(inplace = True, drop=True)\n",
    "\n",
    "test = pd.DataFrame(test, columns=cols)\n",
    "test.sort_values(by = ['album_release_date'], ascending=False, inplace = True)\n",
    "test.reset_index(inplace = True, drop=True)\n",
    "\n",
    "dev = pd.DataFrame(dev, columns=cols)\n",
    "dev.sort_values(by = ['album_release_date'], ascending=False, inplace = True)\n",
    "dev.reset_index(inplace = True, drop=True)"
   ]
  },
  {
   "cell_type": "markdown",
   "metadata": {},
   "source": [
    "### Convert the train, development and test sets without countries to .csv files"
   ]
  },
  {
   "cell_type": "code",
   "execution_count": null,
   "metadata": {},
   "outputs": [],
   "source": [
    "train.to_csv('../dataset/train_no_countries.csv')\n",
    "dev.to_csv('../dataset/dev_no_countries.csv')\n",
    "test.to_csv('../dataset/test_no_countries.csv')"
   ]
  },
  {
   "cell_type": "markdown",
   "metadata": {},
   "source": [
    "### Convert the train, development and test sets with countries to .csv files"
   ]
  },
  {
   "cell_type": "code",
   "execution_count": null,
   "metadata": {},
   "outputs": [],
   "source": [
    "train.to_csv('../dataset/train_with_countries.csv')\n",
    "dev.to_csv('../dataset/dev_with_countries.csv')\n",
    "test.to_csv('../dataset/test_with_countries.csv')"
   ]
  }
 ],
 "metadata": {
  "kernelspec": {
   "display_name": "Python 3",
   "language": "python",
   "name": "python3"
  },
  "language_info": {
   "codemirror_mode": {
    "name": "ipython",
    "version": 2
   },
   "file_extension": ".py",
   "mimetype": "text/x-python",
   "name": "python",
   "nbconvert_exporter": "python",
   "pygments_lexer": "ipython2",
   "version": "2.7.16"
  }
 },
 "nbformat": 4,
 "nbformat_minor": 2
}
